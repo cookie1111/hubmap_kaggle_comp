{
 "cells": [
  {
   "cell_type": "code",
   "execution_count": 1,
   "id": "2482feaa",
   "metadata": {
    "_cell_guid": "b1076dfc-b9ad-4769-8c92-a6c4dae69d19",
    "_uuid": "8f2839f25d086af736a60e9eeb907d3b93b6e0e5",
    "execution": {
     "iopub.execute_input": "2022-08-13T13:43:32.020323Z",
     "iopub.status.busy": "2022-08-13T13:43:32.019862Z",
     "iopub.status.idle": "2022-08-13T13:43:32.103192Z",
     "shell.execute_reply": "2022-08-13T13:43:32.102124Z"
    },
    "papermill": {
     "duration": 0.099054,
     "end_time": "2022-08-13T13:43:32.105947",
     "exception": false,
     "start_time": "2022-08-13T13:43:32.006893",
     "status": "completed"
    },
    "tags": []
   },
   "outputs": [],
   "source": [
    "# This Python 3 environment comes with many helpful analytics libraries installed\n",
    "# It is defined by the kaggle/python Docker image: https://github.com/kaggle/docker-python\n",
    "# For example, here's several helpful packages to load\n",
    "\n",
    "import numpy as np # linear algebra\n",
    "import pandas as pd # data processing, CSV file I/O (e.g. pd.read_csv)\n",
    "\n",
    "# Input data files are available in the read-only \"../input/\" directory\n",
    "# For example, running this (by clicking run or pressing Shift+Enter) will list all files under the input directory\n",
    "\n",
    "import os\n",
    "for dirname, _, filenames in os.walk('/kaggle/input'):\n",
    "    for filename in filenames:\n",
    "        pass\n",
    "        #print(os.path.join(dirname, filename))\n",
    "\n",
    "# You can write up to 20GB to the current directory (/kaggle/working/) that gets preserved as output when you create a version using \"Save & Run All\" \n",
    "# You can also write temporary files to /kaggle/temp/, but they won't be saved outside of the current session"
   ]
  },
  {
   "cell_type": "markdown",
   "id": "4d41cf04",
   "metadata": {
    "papermill": {
     "duration": 0.00928,
     "end_time": "2022-08-13T13:43:32.124811",
     "exception": false,
     "start_time": "2022-08-13T13:43:32.115531",
     "status": "completed"
    },
    "tags": []
   },
   "source": [
    "Checking out the data i was given"
   ]
  },
  {
   "cell_type": "code",
   "execution_count": 2,
   "id": "c07b557c",
   "metadata": {
    "execution": {
     "iopub.execute_input": "2022-08-13T13:43:32.146366Z",
     "iopub.status.busy": "2022-08-13T13:43:32.145625Z",
     "iopub.status.idle": "2022-08-13T13:43:32.803307Z",
     "shell.execute_reply": "2022-08-13T13:43:32.801988Z"
    },
    "papermill": {
     "duration": 0.671527,
     "end_time": "2022-08-13T13:43:32.806072",
     "exception": false,
     "start_time": "2022-08-13T13:43:32.134545",
     "status": "completed"
    },
    "tags": []
   },
   "outputs": [
    {
     "name": "stdout",
     "output_type": "stream",
     "text": [
      "Skipping, found downloaded files in \"./hubmap-organ-segmentation\" (use force=True to force download)\n"
     ]
    }
   ],
   "source": [
    "from matplotlib import pyplot as plt\n",
    "#import matplotlib.path as pat\n",
    "from PIL import Image, ImageDraw, ImageOps\n",
    "import json\n",
    "#import timeit\n",
    "import itertools\n",
    "#from shapely.geometry import Point, Polygon\n",
    "import random\n",
    "import cv2 as cv\n",
    "import opendatasets as od\n",
    "from pathlib import Path\n",
    "\n",
    "\n",
    "od.download(\"https://www.kaggle.com/competitions/hubmap-organ-segmentation/data\")\n",
    "mpath = '.'\n",
    "\n",
    "pd.set_option('display.max_columns', None)\n",
    "pd.set_option('display.width', 1000)\n",
    "pd.set_option('display.colheader_justify', 'center')\n",
    "pd.set_option('display.precision', 3)\n",
    "\n",
    "plt.rcParams['figure.figsize'] = [15, 10]\n",
    "\n",
    "\n",
    "df_train = pd.read_csv(mpath + '/hubmap-organ-segmentation/train.csv')\n",
    "df_test = pd.read_csv(mpath + '/hubmap-organ-segmentation/test.csv')"
   ]
  },
  {
   "cell_type": "markdown",
   "id": "c06bfaf8",
   "metadata": {
    "papermill": {
     "duration": 0.009736,
     "end_time": "2022-08-13T13:43:32.827178",
     "exception": false,
     "start_time": "2022-08-13T13:43:32.817442",
     "status": "completed"
    },
    "tags": []
   },
   "source": [
    "Number of images per organ"
   ]
  },
  {
   "cell_type": "code",
   "execution_count": 3,
   "id": "b2a2d674",
   "metadata": {
    "execution": {
     "iopub.execute_input": "2022-08-13T13:43:32.847560Z",
     "iopub.status.busy": "2022-08-13T13:43:32.847115Z",
     "iopub.status.idle": "2022-08-13T13:43:32.874047Z",
     "shell.execute_reply": "2022-08-13T13:43:32.872893Z"
    },
    "papermill": {
     "duration": 0.040131,
     "end_time": "2022-08-13T13:43:32.876653",
     "exception": false,
     "start_time": "2022-08-13T13:43:32.836522",
     "status": "completed"
    },
    "tags": []
   },
   "outputs": [
    {
     "name": "stdout",
     "output_type": "stream",
     "text": [
      "{'prostate': 93, 'spleen': 53, 'lung': 48, 'kidney': 99, 'largeintestine': 58}\n",
      "[array([10044]), array([10392]), array([10488]), array([10611]), array([10651])]\n"
     ]
    }
   ],
   "source": [
    "df_train.columns\n",
    "organs = df_train.loc[:,\"organ\"].unique()\n",
    "amounts = {org : len(df_train.loc[df_train[\"organ\"] == org]) for org in organs}\n",
    "print(amounts)\n",
    "organ_example = [np.array(df_train.loc[df_train[\"organ\"] == i].head(1).id) for i in amounts]\n",
    "print(organ_example)"
   ]
  },
  {
   "cell_type": "markdown",
   "id": "b9523d46",
   "metadata": {
    "papermill": {
     "duration": 0.009099,
     "end_time": "2022-08-13T13:43:32.895322",
     "exception": false,
     "start_time": "2022-08-13T13:43:32.886223",
     "status": "completed"
    },
    "tags": []
   },
   "source": [
    "Image example"
   ]
  },
  {
   "cell_type": "code",
   "execution_count": 4,
   "id": "5f1647ed",
   "metadata": {
    "execution": {
     "iopub.execute_input": "2022-08-13T13:43:32.917031Z",
     "iopub.status.busy": "2022-08-13T13:43:32.915742Z",
     "iopub.status.idle": "2022-08-13T13:43:41.053264Z",
     "shell.execute_reply": "2022-08-13T13:43:41.052138Z"
    },
    "papermill": {
     "duration": 8.159521,
     "end_time": "2022-08-13T13:43:41.064309",
     "exception": false,
     "start_time": "2022-08-13T13:43:32.904788",
     "status": "completed"
    },
    "tags": []
   },
   "outputs": [
    {
     "name": "stdout",
     "output_type": "stream",
     "text": [
      "[[<AxesSubplot:> <AxesSubplot:> <AxesSubplot:>]\n",
      " [<AxesSubplot:> <AxesSubplot:> <AxesSubplot:>]]\n"
     ]
    },
    {
     "data": {
      "text/plain": "<Figure size 432x288 with 6 Axes>",
      "image/png": "[encoded data removed]"
     },
     "metadata": {
      "needs_background": "light"
     },
     "output_type": "display_data"
    }
   ],
   "source": [
    "a = [np.array(Image.open(mpath+f'/hubmap-organ-segmentation/train_images/{str(j[0])}.tiff')) for j in organ_example]\n",
    "#print(a)\n",
    "masks = [json.load(open(mpath+f'/hubmap-organ-segmentation/train_annotations/{str(j[0])}.json')) for j in organ_example]\n",
    "fix, ax = plt.subplots(2,3)\n",
    "print(ax)\n",
    "count = 0\n",
    "for i in range(2):\n",
    "    for j in range(3):\n",
    "        ax[i,j].imshow(a[count])\n",
    "        count = count + 1\n",
    "        if count == len(a):\n",
    "            break\n",
    "plt.show()"
   ]
  },
  {
   "cell_type": "markdown",
   "id": "487e8e54",
   "metadata": {
    "papermill": {
     "duration": 0.019833,
     "end_time": "2022-08-13T13:43:41.104580",
     "exception": false,
     "start_time": "2022-08-13T13:43:41.084747",
     "status": "completed"
    },
    "tags": []
   },
   "source": [
    "Applying the polygon mask to the image"
   ]
  },
  {
   "cell_type": "code",
   "execution_count": 5,
   "id": "282252f4",
   "metadata": {
    "execution": {
     "iopub.execute_input": "2022-08-13T13:43:41.146554Z",
     "iopub.status.busy": "2022-08-13T13:43:41.145817Z",
     "iopub.status.idle": "2022-08-13T13:43:47.695257Z",
     "shell.execute_reply": "2022-08-13T13:43:47.693908Z"
    },
    "papermill": {
     "duration": 6.573722,
     "end_time": "2022-08-13T13:43:47.698559",
     "exception": false,
     "start_time": "2022-08-13T13:43:41.124837",
     "status": "completed"
    },
    "tags": []
   },
   "outputs": [
    {
     "name": "stdout",
     "output_type": "stream",
     "text": [
      "[[<AxesSubplot:> <AxesSubplot:> <AxesSubplot:>]\n",
      " [<AxesSubplot:> <AxesSubplot:> <AxesSubplot:>]]\n"
     ]
    },
    {
     "ename": "KeyboardInterrupt",
     "evalue": "",
     "output_type": "error",
     "traceback": [
      "\u001B[0;31m---------------------------------------------------------------------------\u001B[0m",
      "\u001B[0;31mKeyboardInterrupt\u001B[0m                         Traceback (most recent call last)",
      "Input \u001B[0;32mIn [5]\u001B[0m, in \u001B[0;36m<cell line: 8>\u001B[0;34m()\u001B[0m\n\u001B[1;32m     11\u001B[0m \u001B[38;5;28;01mfor\u001B[39;00m m \u001B[38;5;129;01min\u001B[39;00m masks[count]:\n\u001B[1;32m     12\u001B[0m     ImageDraw\u001B[38;5;241m.\u001B[39mDraw(a_og[count])\u001B[38;5;241m.\u001B[39mpolygon([\u001B[38;5;28mtuple\u001B[39m(u) \u001B[38;5;28;01mfor\u001B[39;00m u \u001B[38;5;129;01min\u001B[39;00m m], outline\u001B[38;5;241m=\u001B[39m\u001B[38;5;241m1\u001B[39m, fill\u001B[38;5;241m=\u001B[39m\u001B[38;5;241m1\u001B[39m)\n\u001B[0;32m---> 13\u001B[0m \u001B[43max\u001B[49m\u001B[43m[\u001B[49m\u001B[43mi\u001B[49m\u001B[43m,\u001B[49m\u001B[43mj\u001B[49m\u001B[43m]\u001B[49m\u001B[38;5;241;43m.\u001B[39;49m\u001B[43mimshow\u001B[49m\u001B[43m(\u001B[49m\u001B[43ma_og\u001B[49m\u001B[43m[\u001B[49m\u001B[43mcount\u001B[49m\u001B[43m]\u001B[49m\u001B[43m)\u001B[49m\n\u001B[1;32m     14\u001B[0m count \u001B[38;5;241m=\u001B[39m count \u001B[38;5;241m+\u001B[39m \u001B[38;5;241m1\u001B[39m\n\u001B[1;32m     15\u001B[0m \u001B[38;5;28;01mif\u001B[39;00m count \u001B[38;5;241m==\u001B[39m \u001B[38;5;28mlen\u001B[39m(a_og):\n",
      "File \u001B[0;32m~/anaconda3/envs/kaggle_comp/lib/python3.10/site-packages/matplotlib/_api/deprecation.py:459\u001B[0m, in \u001B[0;36mmake_keyword_only.<locals>.wrapper\u001B[0;34m(*args, **kwargs)\u001B[0m\n\u001B[1;32m    453\u001B[0m \u001B[38;5;28;01mif\u001B[39;00m \u001B[38;5;28mlen\u001B[39m(args) \u001B[38;5;241m>\u001B[39m name_idx:\n\u001B[1;32m    454\u001B[0m     warn_deprecated(\n\u001B[1;32m    455\u001B[0m         since, message\u001B[38;5;241m=\u001B[39m\u001B[38;5;124m\"\u001B[39m\u001B[38;5;124mPassing the \u001B[39m\u001B[38;5;132;01m%(name)s\u001B[39;00m\u001B[38;5;124m \u001B[39m\u001B[38;5;132;01m%(obj_type)s\u001B[39;00m\u001B[38;5;124m \u001B[39m\u001B[38;5;124m\"\u001B[39m\n\u001B[1;32m    456\u001B[0m         \u001B[38;5;124m\"\u001B[39m\u001B[38;5;124mpositionally is deprecated since Matplotlib \u001B[39m\u001B[38;5;132;01m%(since)s\u001B[39;00m\u001B[38;5;124m; the \u001B[39m\u001B[38;5;124m\"\u001B[39m\n\u001B[1;32m    457\u001B[0m         \u001B[38;5;124m\"\u001B[39m\u001B[38;5;124mparameter will become keyword-only \u001B[39m\u001B[38;5;132;01m%(removal)s\u001B[39;00m\u001B[38;5;124m.\u001B[39m\u001B[38;5;124m\"\u001B[39m,\n\u001B[1;32m    458\u001B[0m         name\u001B[38;5;241m=\u001B[39mname, obj_type\u001B[38;5;241m=\u001B[39m\u001B[38;5;124mf\u001B[39m\u001B[38;5;124m\"\u001B[39m\u001B[38;5;124mparameter of \u001B[39m\u001B[38;5;132;01m{\u001B[39;00mfunc\u001B[38;5;241m.\u001B[39m\u001B[38;5;18m__name__\u001B[39m\u001B[38;5;132;01m}\u001B[39;00m\u001B[38;5;124m()\u001B[39m\u001B[38;5;124m\"\u001B[39m)\n\u001B[0;32m--> 459\u001B[0m \u001B[38;5;28;01mreturn\u001B[39;00m \u001B[43mfunc\u001B[49m\u001B[43m(\u001B[49m\u001B[38;5;241;43m*\u001B[39;49m\u001B[43margs\u001B[49m\u001B[43m,\u001B[49m\u001B[43m \u001B[49m\u001B[38;5;241;43m*\u001B[39;49m\u001B[38;5;241;43m*\u001B[39;49m\u001B[43mkwargs\u001B[49m\u001B[43m)\u001B[49m\n",
      "File \u001B[0;32m~/anaconda3/envs/kaggle_comp/lib/python3.10/site-packages/matplotlib/__init__.py:1412\u001B[0m, in \u001B[0;36m_preprocess_data.<locals>.inner\u001B[0;34m(ax, data, *args, **kwargs)\u001B[0m\n\u001B[1;32m   1409\u001B[0m \u001B[38;5;129m@functools\u001B[39m\u001B[38;5;241m.\u001B[39mwraps(func)\n\u001B[1;32m   1410\u001B[0m \u001B[38;5;28;01mdef\u001B[39;00m \u001B[38;5;21minner\u001B[39m(ax, \u001B[38;5;241m*\u001B[39margs, data\u001B[38;5;241m=\u001B[39m\u001B[38;5;28;01mNone\u001B[39;00m, \u001B[38;5;241m*\u001B[39m\u001B[38;5;241m*\u001B[39mkwargs):\n\u001B[1;32m   1411\u001B[0m     \u001B[38;5;28;01mif\u001B[39;00m data \u001B[38;5;129;01mis\u001B[39;00m \u001B[38;5;28;01mNone\u001B[39;00m:\n\u001B[0;32m-> 1412\u001B[0m         \u001B[38;5;28;01mreturn\u001B[39;00m \u001B[43mfunc\u001B[49m\u001B[43m(\u001B[49m\u001B[43max\u001B[49m\u001B[43m,\u001B[49m\u001B[43m \u001B[49m\u001B[38;5;241;43m*\u001B[39;49m\u001B[38;5;28;43mmap\u001B[39;49m\u001B[43m(\u001B[49m\u001B[43msanitize_sequence\u001B[49m\u001B[43m,\u001B[49m\u001B[43m \u001B[49m\u001B[43margs\u001B[49m\u001B[43m)\u001B[49m\u001B[43m,\u001B[49m\u001B[43m \u001B[49m\u001B[38;5;241;43m*\u001B[39;49m\u001B[38;5;241;43m*\u001B[39;49m\u001B[43mkwargs\u001B[49m\u001B[43m)\u001B[49m\n\u001B[1;32m   1414\u001B[0m     bound \u001B[38;5;241m=\u001B[39m new_sig\u001B[38;5;241m.\u001B[39mbind(ax, \u001B[38;5;241m*\u001B[39margs, \u001B[38;5;241m*\u001B[39m\u001B[38;5;241m*\u001B[39mkwargs)\n\u001B[1;32m   1415\u001B[0m     auto_label \u001B[38;5;241m=\u001B[39m (bound\u001B[38;5;241m.\u001B[39marguments\u001B[38;5;241m.\u001B[39mget(label_namer)\n\u001B[1;32m   1416\u001B[0m                   \u001B[38;5;129;01mor\u001B[39;00m bound\u001B[38;5;241m.\u001B[39mkwargs\u001B[38;5;241m.\u001B[39mget(label_namer))\n",
      "File \u001B[0;32m~/anaconda3/envs/kaggle_comp/lib/python3.10/site-packages/matplotlib/axes/_axes.py:5481\u001B[0m, in \u001B[0;36mAxes.imshow\u001B[0;34m(self, X, cmap, norm, aspect, interpolation, alpha, vmin, vmax, origin, extent, interpolation_stage, filternorm, filterrad, resample, url, **kwargs)\u001B[0m\n\u001B[1;32m   5474\u001B[0m \u001B[38;5;28mself\u001B[39m\u001B[38;5;241m.\u001B[39mset_aspect(aspect)\n\u001B[1;32m   5475\u001B[0m im \u001B[38;5;241m=\u001B[39m mimage\u001B[38;5;241m.\u001B[39mAxesImage(\u001B[38;5;28mself\u001B[39m, cmap, norm, interpolation,\n\u001B[1;32m   5476\u001B[0m                       origin, extent, filternorm\u001B[38;5;241m=\u001B[39mfilternorm,\n\u001B[1;32m   5477\u001B[0m                       filterrad\u001B[38;5;241m=\u001B[39mfilterrad, resample\u001B[38;5;241m=\u001B[39mresample,\n\u001B[1;32m   5478\u001B[0m                       interpolation_stage\u001B[38;5;241m=\u001B[39minterpolation_stage,\n\u001B[1;32m   5479\u001B[0m                       \u001B[38;5;241m*\u001B[39m\u001B[38;5;241m*\u001B[39mkwargs)\n\u001B[0;32m-> 5481\u001B[0m \u001B[43mim\u001B[49m\u001B[38;5;241;43m.\u001B[39;49m\u001B[43mset_data\u001B[49m\u001B[43m(\u001B[49m\u001B[43mX\u001B[49m\u001B[43m)\u001B[49m\n\u001B[1;32m   5482\u001B[0m im\u001B[38;5;241m.\u001B[39mset_alpha(alpha)\n\u001B[1;32m   5483\u001B[0m \u001B[38;5;28;01mif\u001B[39;00m im\u001B[38;5;241m.\u001B[39mget_clip_path() \u001B[38;5;129;01mis\u001B[39;00m \u001B[38;5;28;01mNone\u001B[39;00m:\n\u001B[1;32m   5484\u001B[0m     \u001B[38;5;66;03m# image does not already have clipping set, clip to axes patch\u001B[39;00m\n",
      "File \u001B[0;32m~/anaconda3/envs/kaggle_comp/lib/python3.10/site-packages/matplotlib/image.py:701\u001B[0m, in \u001B[0;36m_ImageBase.set_data\u001B[0;34m(self, A)\u001B[0m\n\u001B[1;32m    691\u001B[0m \u001B[38;5;124;03m\"\"\"\u001B[39;00m\n\u001B[1;32m    692\u001B[0m \u001B[38;5;124;03mSet the image array.\u001B[39;00m\n\u001B[1;32m    693\u001B[0m \n\u001B[0;32m   (...)\u001B[0m\n\u001B[1;32m    698\u001B[0m \u001B[38;5;124;03mA : array-like or `PIL.Image.Image`\u001B[39;00m\n\u001B[1;32m    699\u001B[0m \u001B[38;5;124;03m\"\"\"\u001B[39;00m\n\u001B[1;32m    700\u001B[0m \u001B[38;5;28;01mif\u001B[39;00m \u001B[38;5;28misinstance\u001B[39m(A, PIL\u001B[38;5;241m.\u001B[39mImage\u001B[38;5;241m.\u001B[39mImage):\n\u001B[0;32m--> 701\u001B[0m     A \u001B[38;5;241m=\u001B[39m \u001B[43mpil_to_array\u001B[49m\u001B[43m(\u001B[49m\u001B[43mA\u001B[49m\u001B[43m)\u001B[49m  \u001B[38;5;66;03m# Needed e.g. to apply png palette.\u001B[39;00m\n\u001B[1;32m    702\u001B[0m \u001B[38;5;28mself\u001B[39m\u001B[38;5;241m.\u001B[39m_A \u001B[38;5;241m=\u001B[39m cbook\u001B[38;5;241m.\u001B[39msafe_masked_invalid(A, copy\u001B[38;5;241m=\u001B[39m\u001B[38;5;28;01mTrue\u001B[39;00m)\n\u001B[1;32m    704\u001B[0m \u001B[38;5;28;01mif\u001B[39;00m (\u001B[38;5;28mself\u001B[39m\u001B[38;5;241m.\u001B[39m_A\u001B[38;5;241m.\u001B[39mdtype \u001B[38;5;241m!=\u001B[39m np\u001B[38;5;241m.\u001B[39muint8 \u001B[38;5;129;01mand\u001B[39;00m\n\u001B[1;32m    705\u001B[0m         \u001B[38;5;129;01mnot\u001B[39;00m np\u001B[38;5;241m.\u001B[39mcan_cast(\u001B[38;5;28mself\u001B[39m\u001B[38;5;241m.\u001B[39m_A\u001B[38;5;241m.\u001B[39mdtype, \u001B[38;5;28mfloat\u001B[39m, \u001B[38;5;124m\"\u001B[39m\u001B[38;5;124msame_kind\u001B[39m\u001B[38;5;124m\"\u001B[39m)):\n",
      "File \u001B[0;32m~/anaconda3/envs/kaggle_comp/lib/python3.10/site-packages/matplotlib/image.py:1696\u001B[0m, in \u001B[0;36mpil_to_array\u001B[0;34m(pilImage)\u001B[0m\n\u001B[1;32m   1679\u001B[0m \u001B[38;5;124;03m\"\"\"\u001B[39;00m\n\u001B[1;32m   1680\u001B[0m \u001B[38;5;124;03mLoad a `PIL image`_ and return it as a numpy int array.\u001B[39;00m\n\u001B[1;32m   1681\u001B[0m \n\u001B[0;32m   (...)\u001B[0m\n\u001B[1;32m   1692\u001B[0m \u001B[38;5;124;03m    - (M, N, 4) for RGBA images.\u001B[39;00m\n\u001B[1;32m   1693\u001B[0m \u001B[38;5;124;03m\"\"\"\u001B[39;00m\n\u001B[1;32m   1694\u001B[0m \u001B[38;5;28;01mif\u001B[39;00m pilImage\u001B[38;5;241m.\u001B[39mmode \u001B[38;5;129;01min\u001B[39;00m [\u001B[38;5;124m'\u001B[39m\u001B[38;5;124mRGBA\u001B[39m\u001B[38;5;124m'\u001B[39m, \u001B[38;5;124m'\u001B[39m\u001B[38;5;124mRGBX\u001B[39m\u001B[38;5;124m'\u001B[39m, \u001B[38;5;124m'\u001B[39m\u001B[38;5;124mRGB\u001B[39m\u001B[38;5;124m'\u001B[39m, \u001B[38;5;124m'\u001B[39m\u001B[38;5;124mL\u001B[39m\u001B[38;5;124m'\u001B[39m]:\n\u001B[1;32m   1695\u001B[0m     \u001B[38;5;66;03m# return MxNx4 RGBA, MxNx3 RBA, or MxN luminance array\u001B[39;00m\n\u001B[0;32m-> 1696\u001B[0m     \u001B[38;5;28;01mreturn\u001B[39;00m \u001B[43mnp\u001B[49m\u001B[38;5;241;43m.\u001B[39;49m\u001B[43masarray\u001B[49m\u001B[43m(\u001B[49m\u001B[43mpilImage\u001B[49m\u001B[43m)\u001B[49m\n\u001B[1;32m   1697\u001B[0m \u001B[38;5;28;01melif\u001B[39;00m pilImage\u001B[38;5;241m.\u001B[39mmode\u001B[38;5;241m.\u001B[39mstartswith(\u001B[38;5;124m'\u001B[39m\u001B[38;5;124mI;16\u001B[39m\u001B[38;5;124m'\u001B[39m):\n\u001B[1;32m   1698\u001B[0m     \u001B[38;5;66;03m# return MxN luminance array of uint16\u001B[39;00m\n\u001B[1;32m   1699\u001B[0m     raw \u001B[38;5;241m=\u001B[39m pilImage\u001B[38;5;241m.\u001B[39mtobytes(\u001B[38;5;124m'\u001B[39m\u001B[38;5;124mraw\u001B[39m\u001B[38;5;124m'\u001B[39m, pilImage\u001B[38;5;241m.\u001B[39mmode)\n",
      "File \u001B[0;32m~/anaconda3/envs/kaggle_comp/lib/python3.10/site-packages/PIL/Image.py:687\u001B[0m, in \u001B[0;36mImage.__array_interface__\u001B[0;34m(self)\u001B[0m\n\u001B[1;32m    685\u001B[0m     new[\u001B[38;5;124m\"\u001B[39m\u001B[38;5;124mdata\u001B[39m\u001B[38;5;124m\"\u001B[39m] \u001B[38;5;241m=\u001B[39m \u001B[38;5;28mself\u001B[39m\u001B[38;5;241m.\u001B[39mtobytes(\u001B[38;5;124m\"\u001B[39m\u001B[38;5;124mraw\u001B[39m\u001B[38;5;124m\"\u001B[39m, \u001B[38;5;124m\"\u001B[39m\u001B[38;5;124mL\u001B[39m\u001B[38;5;124m\"\u001B[39m)\n\u001B[1;32m    686\u001B[0m \u001B[38;5;28;01melse\u001B[39;00m:\n\u001B[0;32m--> 687\u001B[0m     new[\u001B[38;5;124m\"\u001B[39m\u001B[38;5;124mdata\u001B[39m\u001B[38;5;124m\"\u001B[39m] \u001B[38;5;241m=\u001B[39m \u001B[38;5;28;43mself\u001B[39;49m\u001B[38;5;241;43m.\u001B[39;49m\u001B[43mtobytes\u001B[49m\u001B[43m(\u001B[49m\u001B[43m)\u001B[49m\n\u001B[1;32m    688\u001B[0m \u001B[38;5;28;01mreturn\u001B[39;00m new\n",
      "File \u001B[0;32m~/anaconda3/envs/kaggle_comp/lib/python3.10/site-packages/PIL/Image.py:742\u001B[0m, in \u001B[0;36mImage.tobytes\u001B[0;34m(self, encoder_name, *args)\u001B[0m\n\u001B[1;32m    740\u001B[0m data \u001B[38;5;241m=\u001B[39m []\n\u001B[1;32m    741\u001B[0m \u001B[38;5;28;01mwhile\u001B[39;00m \u001B[38;5;28;01mTrue\u001B[39;00m:\n\u001B[0;32m--> 742\u001B[0m     l, s, d \u001B[38;5;241m=\u001B[39m \u001B[43me\u001B[49m\u001B[38;5;241;43m.\u001B[39;49m\u001B[43mencode\u001B[49m\u001B[43m(\u001B[49m\u001B[43mbufsize\u001B[49m\u001B[43m)\u001B[49m\n\u001B[1;32m    743\u001B[0m     data\u001B[38;5;241m.\u001B[39mappend(d)\n\u001B[1;32m    744\u001B[0m     \u001B[38;5;28;01mif\u001B[39;00m s:\n",
      "\u001B[0;31mKeyboardInterrupt\u001B[0m: "
     ]
    },
    {
     "data": {
      "text/plain": "<Figure size 432x288 with 6 Axes>",
      "image/png": "[encoded data removed]"
     },
     "metadata": {
      "needs_background": "light"
     },
     "output_type": "display_data"
    }
   ],
   "source": [
    "#print(mask[0])\n",
    "a_og = a\n",
    "\n",
    "\n",
    "fix, ax = plt.subplots(2,3)\n",
    "print(ax)\n",
    "count = 0\n",
    "for i in range(2):\n",
    "    for j in range(3):\n",
    "        a_og[count] = Image.fromarray(a[count])\n",
    "        for m in masks[count]:\n",
    "            ImageDraw.Draw(a_og[count]).polygon([tuple(u) for u in m], outline=1, fill=1)\n",
    "        ax[i,j].imshow(a_og[count])\n",
    "        count = count + 1\n",
    "        if count == len(a_og):\n",
    "            break\n",
    "plt.show()\n",
    "print(np.array(a_og[0]))"
   ]
  },
  {
   "cell_type": "code",
   "execution_count": null,
   "id": "faa7a0a2",
   "metadata": {
    "execution": {
     "iopub.execute_input": "2022-08-13T13:43:47.761025Z",
     "iopub.status.busy": "2022-08-13T13:43:47.760211Z",
     "iopub.status.idle": "2022-08-13T13:43:47.766454Z",
     "shell.execute_reply": "2022-08-13T13:43:47.765141Z"
    },
    "papermill": {
     "duration": 0.039898,
     "end_time": "2022-08-13T13:43:47.769295",
     "exception": false,
     "start_time": "2022-08-13T13:43:47.729397",
     "status": "completed"
    },
    "tags": []
   },
   "outputs": [],
   "source": [
    "print(df_test[\"data_source\"].tolist())"
   ]
  },
  {
   "cell_type": "markdown",
   "id": "cc02b004",
   "metadata": {
    "papermill": {
     "duration": 0.028276,
     "end_time": "2022-08-13T13:43:47.825404",
     "exception": false,
     "start_time": "2022-08-13T13:43:47.797128",
     "status": "completed"
    },
    "tags": []
   },
   "source": [
    "Checking out hubmap"
   ]
  },
  {
   "cell_type": "code",
   "execution_count": null,
   "id": "668deeca",
   "metadata": {
    "execution": {
     "iopub.execute_input": "2022-08-13T13:43:47.885655Z",
     "iopub.status.busy": "2022-08-13T13:43:47.885256Z",
     "iopub.status.idle": "2022-08-13T13:43:49.080295Z",
     "shell.execute_reply": "2022-08-13T13:43:49.079065Z"
    },
    "papermill": {
     "duration": 1.242153,
     "end_time": "2022-08-13T13:43:49.096272",
     "exception": false,
     "start_time": "2022-08-13T13:43:47.854119",
     "status": "completed"
    },
    "tags": []
   },
   "outputs": [],
   "source": [
    "a = Image.open(mpath+'/hubmap-organ-segmentation/test_images/10078.tiff')\n",
    "mask = json.load(open(mpath+'/hubmap-organ-segmentation/train_annotations/11064.json'))\n",
    "im = np.array(a)\n",
    "plt.imshow(im)"
   ]
  },
  {
   "cell_type": "markdown",
   "id": "cd11d455",
   "metadata": {
    "papermill": {
     "duration": 0.04905,
     "end_time": "2022-08-13T13:43:49.193976",
     "exception": false,
     "start_time": "2022-08-13T13:43:49.144926",
     "status": "completed"
    },
    "tags": []
   },
   "source": [
    "Data augmentation:\n",
    "1. rotation\n",
    "2. scaling\n",
    "3. mirroring\n",
    "4. (can try segmenting the picture)"
   ]
  },
  {
   "cell_type": "markdown",
   "id": "1df34743",
   "metadata": {
    "papermill": {
     "duration": 0.044277,
     "end_time": "2022-08-13T13:43:49.285519",
     "exception": false,
     "start_time": "2022-08-13T13:43:49.241242",
     "status": "completed"
    },
    "tags": []
   },
   "source": [
    "# Segmentation"
   ]
  },
  {
   "cell_type": "markdown",
   "id": "819f374b",
   "metadata": {
    "papermill": {
     "duration": 0.044781,
     "end_time": "2022-08-13T13:43:49.374886",
     "exception": false,
     "start_time": "2022-08-13T13:43:49.330105",
     "status": "completed"
    },
    "tags": []
   },
   "source": [
    "Helpers"
   ]
  },
  {
   "cell_type": "markdown",
   "id": "d3fe1974",
   "metadata": {
    "papermill": {
     "duration": 0.045466,
     "end_time": "2022-08-13T13:43:49.465563",
     "exception": false,
     "start_time": "2022-08-13T13:43:49.420097",
     "status": "completed"
    },
    "tags": []
   },
   "source": []
  },
  {
   "cell_type": "code",
   "execution_count": null,
   "id": "7fd2fb53",
   "metadata": {
    "execution": {
     "iopub.execute_input": "2022-08-13T13:43:49.559538Z",
     "iopub.status.busy": "2022-08-13T13:43:49.558921Z",
     "iopub.status.idle": "2022-08-13T13:43:49.592793Z",
     "shell.execute_reply": "2022-08-13T13:43:49.591646Z"
    },
    "papermill": {
     "duration": 0.084369,
     "end_time": "2022-08-13T13:43:49.595354",
     "exception": false,
     "start_time": "2022-08-13T13:43:49.510985",
     "status": "completed"
    },
    "tags": []
   },
   "outputs": [],
   "source": [
    "def maskPIL(im_shape,masks,to_array = True):\n",
    "    #create empty image of background\n",
    "    img = Image.new('L',(im_shape),0)\n",
    "    #we go through the list of masks\n",
    "    for poly in masks:\n",
    "        #print(poly)\n",
    "        ImageDraw.Draw(img).polygon([tuple(u) for u in poly],outline=1,fill=1)\n",
    "    if to_array:\n",
    "        return np.array(img, dtype=bool)\n",
    "    else:\n",
    "        return img\n",
    "    \n",
    "\n",
    "def check_mask_included(mask, height, width,h_len,w_len):\n",
    "    return 0 < np.sum(mask[height:height+h_len,width:width+w_len])\n",
    "\n",
    "#im = PIL.Image || np.array, direction = 0(y) || 1(x)\n",
    "def flip_im(im,direction = 0 ,to_array = True):\n",
    "    if im is None:\n",
    "        raise Exception(\"Image is None\") \n",
    "        return -1\n",
    "    #image is a np.array we don't convert\n",
    "    elif type(im).__module__ == np.__name__:\n",
    "        return np.flip(im,direction)\n",
    "    else:\n",
    "        if direction == 0:\n",
    "            if to_array:\n",
    "                return np.array(ImageOps.flip(im))\n",
    "            return ImageOps.flip(im)\n",
    "        else:\n",
    "            if to_array:\n",
    "                return np.array(ImageOps.mirror(im))\n",
    "            return ImageOps.mirror(im)\n",
    "\n",
    "#im = PIL.Image has to be PIL image\n",
    "def rotate_im(im,rot_amount = 15):\n",
    "    return im.rotate(angle=rot_amount)\n",
    "        \n",
    "        \n",
    "def otsu_mask_dilated(image,kernel1,kernel2):\n",
    "    #convert image to greyscale\n",
    "    grey = np.array(ImageOps.grayscale(image))\n",
    "    \n",
    "    \n",
    "    \n",
    "    \n",
    "    \n",
    "    #apply gaussian blur OPTINAL\n",
    "    gauss_grey = cv.GaussianBlur(grey,(5,5),0)\n",
    "    \n",
    "    \n",
    "    \n",
    "    \n",
    "    #apply otsu thresholding\n",
    "    thresh,mask = cv.threshold(gauss_grey,0,255,cv.THRESH_BINARY+cv.THRESH_OTSU)\n",
    "    mask = cv.bitwise_not(mask)\n",
    "    \n",
    "    mask = cv.erode(mask,kernel1)\n",
    "    #\n",
    "    mask = cv.dilate(mask,kernel2)\n",
    "    mask = cv.erode(mask,kernel2)\n",
    "    \n",
    "    return mask\n",
    "\n",
    "\n",
    "#PADDING HERE FUCKED NOT FIXED BECAUSE NEVER USED\n",
    "def get_crop_of_mask(mask,w_slice=0,h_slice = 0,p_h = 0,p_w = 0, coords = False):\n",
    "    \n",
    "    maskx = np.any(mask, axis=0)\n",
    "    masky = np.any(mask, axis=1)\n",
    "    x1 = np.argmax(maskx)\n",
    "    y1 = np.argmax(masky)\n",
    "    x2 = len(maskx) - np.argmax(maskx[::-1])\n",
    "    y2 = len(masky) - np.argmax(masky[::-1]) \n",
    "    #pad if the image is smaller than the pad amount + crop\n",
    "    h = w = False\n",
    "    \n",
    "    padding_h = padding_w = 0\n",
    "    if p_h+(y2-y1)>mask.shape[0]:\n",
    "        padding_h = p_h+(y2-y1)-mask.shape[0]\n",
    "        h = True\n",
    "    if p_w+(x2-x1)>mask.shape[1]:\n",
    "        padding_w = p_w+(x2-x1)-mask.shape[1]\n",
    "        w = True \n",
    "    \n",
    "   \n",
    "\n",
    "    #w_slice = rand.randint(0,p_w)\n",
    "    #h_slice = rand.randint(0,p_h)\n",
    "    pad_front_w = pad_front_h = pad_back_w = pad_back_h = 0\n",
    "\n",
    "    x1 = x1-w_slice\n",
    "    if(x1<0):\n",
    "        pad_front_w = -x1\n",
    "        x1 = 0    \n",
    "    y1 = y1-h_slice\n",
    "    if(y1<0):\n",
    "        pad_front_h = -y1\n",
    "        y1 = 0\n",
    "    #padding is too large\n",
    "    if(x2+pad_front_w+(p_w-w_slice)>=mask.shape[1]):\n",
    "        pad_back_w = x2+pad_front_w+(p_w-w_slice) -mask.shape[1] \n",
    "        x2 = mask.shape[1]\n",
    "    if(y2+pad_front_h+(p_h-h_slice)>=mask.shape[0]):\n",
    "        pad_back_h = y2+pad_front_h+(p_h-h_slice) - mask.shape[0]\n",
    "        y2 = mask.shape[0]\n",
    "\n",
    "    if(w or h):\n",
    "        print(pad_front_h,pad_back_h,pad_front_w,pad_back_w)\n",
    "        a = np.pad(mask[y1:y2, x1:x2],pad_width=((pad_front_h,pad_back_h),(pad_front_w,pad_back_w)),mode='edge')\n",
    "    else:\n",
    "        a = mask[y1:y2,x1:x2]\n",
    "\n",
    "        ###############################\n",
    "        #za padding rabmo prevert če mamo zadost prostora pred in po sliki\n",
    "        #in če mamo zadost prostora pred in po sliki za slice\n",
    "    if coords:\n",
    "        return y1-pad_front_h,x1-pad_front_w,y2+pad_back_h,x2+pad_back_w\n",
    "    else:\n",
    "        return a\n",
    "\n",
    "\n",
    "def get_crop_using_mask(mask,im,w_slice=0,h_slice = 0,p_h = 0,p_w = 0, coords = False):\n",
    "    \n",
    "    maskx = np.any(mask, axis=0)\n",
    "    masky = np.any(mask, axis=1)\n",
    "    x1 = np.argmax(maskx)\n",
    "    y1 = np.argmax(masky)\n",
    "    x2 = len(maskx) - np.argmax(maskx[::-1])\n",
    "    y2 = len(masky) - np.argmax(masky[::-1]) \n",
    "    #pad if the image is smaller than the pad amount + crop\n",
    "    h = w = False\n",
    "    \n",
    "    #padding_h = padding_w = 0\n",
    "    \"\"\"if p_h+(y2-y1)>mask.shape[0]:\n",
    "        #padding_h = p_h+(y2-y1)-mask.shape[0]\n",
    "        h = True\n",
    "    if p_w+(x2-x1)>mask.shape[1]:\n",
    "        #padding_w = p_w+(x2-x1)-mask.shape[1]\n",
    "        w = True \"\"\"\n",
    "    \n",
    "   \n",
    "\n",
    "    #w_slice = rand.randint(0,p_w)\n",
    "    #h_slice = rand.randint(0,p_h)\n",
    "    pad_front_w = pad_front_h = pad_back_w = pad_back_h = 0\n",
    "\n",
    "    x1 = x1-w_slice\n",
    "    if(x1<0):\n",
    "        pad_front_w = -x1\n",
    "        x1 = 0\n",
    "        w = True\n",
    "    y1 = y1-h_slice\n",
    "    if(y1<0):\n",
    "        pad_front_h = -y1\n",
    "        y1 = 0\n",
    "        h = True\n",
    "    #PADDING OUT OF IMAGE NOT WORKING\n",
    "    #print(x2)\n",
    "    x2 = x2+pad_front_w+(p_w-w_slice)\n",
    "    #print(x2)\n",
    "    if(x2>=mask.shape[1]):\n",
    "        pad_back_w = x2-mask.shape[1]\n",
    "        x2 = mask.shape[1]\n",
    "        w = True\n",
    "    #print(y2)\n",
    "    y2 = y2+pad_front_h+(p_h-h_slice)\n",
    "    #print(y2)\n",
    "    if(y2>=mask.shape[0]):\n",
    "        pad_back_h = y2 - mask.shape[0]\n",
    "        y2 = mask.shape[0]\n",
    "        h = True\n",
    "    #print(x1,x2,y1,y2)\n",
    "    if(w or h):\n",
    "        #print(\"Padding fucked:\",pad_front_h,pad_back_h,pad_front_w,pad_back_w)\n",
    "        if(len(im.shape) == 3):\n",
    "            a = np.pad(im[y1:y2, x1:x2],pad_width=((pad_front_h,pad_back_h),(pad_front_w,pad_back_w),(0,0)),mode='edge')\n",
    "        else:\n",
    "            a = np.pad(im[y1:y2, x1:x2],pad_width=((pad_front_h,pad_back_h),(pad_front_w,pad_back_w)),mode='edge')\n",
    "    else:\n",
    "        a = im[y1:y2,x1:x2]\n",
    "\n",
    "        ###############################\n",
    "        #za padding rabmo prevert če mamo zadost prostora pred in po sliki\n",
    "        #in če mamo zadost prostora pred in po sliki za slice\n",
    "    if coords:\n",
    "        return y1-pad_front_h,x1-pad_front_w,y2+pad_back_h,x2+pad_back_w\n",
    "    else:\n",
    "        return a"
   ]
  },
  {
   "cell_type": "code",
   "execution_count": null,
   "id": "95a38e96",
   "metadata": {
    "execution": {
     "iopub.execute_input": "2022-08-13T13:43:49.690006Z",
     "iopub.status.busy": "2022-08-13T13:43:49.689496Z",
     "iopub.status.idle": "2022-08-13T13:43:49.695357Z",
     "shell.execute_reply": "2022-08-13T13:43:49.694119Z"
    },
    "papermill": {
     "duration": 0.056908,
     "end_time": "2022-08-13T13:43:49.698186",
     "exception": false,
     "start_time": "2022-08-13T13:43:49.641278",
     "status": "completed"
    },
    "tags": []
   },
   "outputs": [],
   "source": [
    "#stop"
   ]
  },
  {
   "cell_type": "markdown",
   "id": "ac490d5b",
   "metadata": {
    "papermill": {
     "duration": 0.045107,
     "end_time": "2022-08-13T13:43:49.788919",
     "exception": false,
     "start_time": "2022-08-13T13:43:49.743812",
     "status": "completed"
    },
    "tags": []
   },
   "source": [
    "testing mask"
   ]
  },
  {
   "cell_type": "code",
   "execution_count": null,
   "id": "d872c277",
   "metadata": {
    "execution": {
     "iopub.execute_input": "2022-08-13T13:43:49.881601Z",
     "iopub.status.busy": "2022-08-13T13:43:49.880945Z",
     "iopub.status.idle": "2022-08-13T13:44:02.363311Z",
     "shell.execute_reply": "2022-08-13T13:44:02.360935Z"
    },
    "papermill": {
     "duration": 12.532859,
     "end_time": "2022-08-13T13:44:02.367065",
     "exception": false,
     "start_time": "2022-08-13T13:43:49.834206",
     "status": "completed"
    },
    "tags": []
   },
   "outputs": [],
   "source": [
    "\n",
    "a = [np.array(Image.open(mpath+f'/hubmap-organ-segmentation/train_images/{str(j[0])}.tiff')) for j in organ_example]\n",
    "rand = random.Random()\n",
    "rand.seed(2022)\n",
    "for im in a:\n",
    "    m = otsu_mask_dilated(Image.fromarray(im),np.ones((10, 10), np.uint8),np.ones((300, 300), np.uint8))\n",
    "    #bounds = cv.boundingRec(m)\n",
    "    p_h = 250\n",
    "    p_w = 250\n",
    "    h_slice=rand.randint(int(p_h//4),int(3*p_h//4))\n",
    "    w_slice=rand.randint(int(p_w//4),int(3*p_w//4))\n",
    "    print(h_slice,w_slice)\n",
    "    m_c = get_crop_using_mask(m,m,w_slice=w_slice,h_slice =h_slice,p_h = p_h, p_w=p_w,coords=False)\n",
    "    #print(m)\n",
    "    #plt.show()\n",
    "    #print(m_c,im.shape)\n",
    "    #input(\"yep\")\n",
    "\n",
    "    #plt.imshow(m_c)\n",
    "    fig ,axs = plt.subplots(1,2)\n",
    "    axs[0].imshow(m_c)\n",
    "    #im2 = Image.fromarray(a[0])\n",
    "\n",
    "    #ImageDraw.Draw(im2).polygon([tuple(u) for u in masks[0][0]], outline=1, fill=1)\n",
    "    axs[1].imshow(im)\n",
    "\n",
    "    plt.show()\n",
    "    "
   ]
  },
  {
   "cell_type": "code",
   "execution_count": null,
   "id": "66a691e6",
   "metadata": {
    "execution": {
     "iopub.execute_input": "2022-08-13T13:44:02.522270Z",
     "iopub.status.busy": "2022-08-13T13:44:02.521798Z",
     "iopub.status.idle": "2022-08-13T13:44:04.343456Z",
     "shell.execute_reply": "2022-08-13T13:44:04.342342Z"
    },
    "papermill": {
     "duration": 1.902638,
     "end_time": "2022-08-13T13:44:04.347219",
     "exception": false,
     "start_time": "2022-08-13T13:44:02.444581",
     "status": "completed"
    },
    "tags": []
   },
   "outputs": [],
   "source": [
    "a = [np.array(Image.open(mpath+f'/hubmap-organ-segmentation/train_images/{str(j[0])}.tiff')) for j in organ_example]\n",
    "#test \n",
    "masked = maskPIL(a[0].shape[:2],masks[0])\n",
    "\n",
    "im = a[0]\n",
    "im1 = np.rot90(a[0],1)\n",
    "#im[masked] = (0,0,0)\n",
    "fig ,axs = plt.subplots(2,1)\n",
    "axs[0].imshow(Image.fromarray(im))\n",
    "#im2 = Image.fromarray(a[0])\n",
    "\n",
    "#ImageDraw.Draw(im2).polygon([tuple(u) for u in masks[0][0]], outline=1, fill=1)\n",
    "axs[1].imshow(im1[10:1000,10:1000])"
   ]
  },
  {
   "cell_type": "markdown",
   "id": "6abbdd78",
   "metadata": {
    "papermill": {
     "duration": 0.074392,
     "end_time": "2022-08-13T13:44:04.502378",
     "exception": false,
     "start_time": "2022-08-13T13:44:04.427986",
     "status": "completed"
    },
    "tags": []
   },
   "source": [
    "Simple tiling function"
   ]
  },
  {
   "cell_type": "code",
   "execution_count": null,
   "id": "76ebc818",
   "metadata": {
    "execution": {
     "iopub.execute_input": "2022-08-13T13:44:04.653074Z",
     "iopub.status.busy": "2022-08-13T13:44:04.651970Z",
     "iopub.status.idle": "2022-08-13T13:44:04.663831Z",
     "shell.execute_reply": "2022-08-13T13:44:04.662157Z"
    },
    "jupyter": {
     "source_hidden": true
    },
    "papermill": {
     "duration": 0.091103,
     "end_time": "2022-08-13T13:44:04.666705",
     "exception": false,
     "start_time": "2022-08-13T13:44:04.575602",
     "status": "completed"
    },
    "tags": []
   },
   "outputs": [],
   "source": [
    "def dataloader_segment_rand_with_mask(image, masks, annotations, batch_size=20, height = 256, width = 256, tries = 10, percent_of_sample=0.75, masked = None, random = True):\n",
    "    \n",
    "    ###Create masks###\n",
    "    if masked is None:\n",
    "        masked = maskPIL(image.shape,masks)\n",
    "    batch = []\n",
    "    \n",
    "    #random segment sampling\n",
    "    if random:\n",
    "        for i in range(tries):\n",
    "            h = random.randint(0,image.shape[0]-height)\n",
    "            w = random.randint(0,image.shape[0]-width)\n",
    "            if check_mask_included(masked,h,w,height,width):\n",
    "                batch.append((h,w))\n",
    "    #divide the image into height*width sized overlapping segments\n",
    "    else:\n",
    "        #figure out how many segments and whats hte overlap\n",
    "        height_n = int(image.shape[0]/height)\n",
    "        height_excess = image.shape[0]%height\n",
    "        width_n = int(image.shape[1]/width)\n",
    "        width_excess = image.shape[1]%width\n",
    "        height_coords = []\n",
    "        \n",
    "        #we will pad the edge\n",
    "        height_coords = range(0,image.shape[0],height)\n",
    "        width_coords = range(0,image.shape[1],width)\n",
    "        batch = list(itertools.combinations(height_coords,width_coords))\n",
    "            \n",
    "        \n",
    "    return batch\n"
   ]
  },
  {
   "cell_type": "markdown",
   "id": "3de78d3b",
   "metadata": {
    "papermill": {
     "duration": 0.073404,
     "end_time": "2022-08-13T13:44:04.813910",
     "exception": false,
     "start_time": "2022-08-13T13:44:04.740506",
     "status": "completed"
    },
    "tags": []
   },
   "source": [
    "Need stains of organs with different techniques"
   ]
  },
  {
   "cell_type": "code",
   "execution_count": null,
   "id": "52b8cb6f",
   "metadata": {
    "execution": {
     "iopub.execute_input": "2022-08-13T13:44:04.965566Z",
     "iopub.status.busy": "2022-08-13T13:44:04.964678Z",
     "iopub.status.idle": "2022-08-13T13:44:04.970222Z",
     "shell.execute_reply": "2022-08-13T13:44:04.969249Z"
    },
    "jupyter": {
     "source_hidden": true
    },
    "papermill": {
     "duration": 0.084306,
     "end_time": "2022-08-13T13:44:04.972755",
     "exception": false,
     "start_time": "2022-08-13T13:44:04.888449",
     "status": "completed"
    },
    "tags": []
   },
   "outputs": [],
   "source": [
    "#checking other possible datasets for stains\n"
   ]
  },
  {
   "cell_type": "code",
   "execution_count": null,
   "id": "da292e80",
   "metadata": {
    "jupyter": {
     "source_hidden": true
    },
    "papermill": {
     "duration": 0.077085,
     "end_time": "2022-08-13T13:44:05.127423",
     "exception": false,
     "start_time": "2022-08-13T13:44:05.050338",
     "status": "completed"
    },
    "tags": []
   },
   "outputs": [],
   "source": []
  },
  {
   "cell_type": "markdown",
   "id": "4e26563e",
   "metadata": {
    "papermill": {
     "duration": 0.074688,
     "end_time": "2022-08-13T13:44:05.277061",
     "exception": false,
     "start_time": "2022-08-13T13:44:05.202373",
     "status": "completed"
    },
    "tags": []
   },
   "source": [
    "We will try 2 concepts:\n",
    "1. Predicting indiscriminant of organ with only one model\n",
    "2. Training a model for each organ seperatly"
   ]
  },
  {
   "cell_type": "markdown",
   "id": "8f32ab27",
   "metadata": {
    "papermill": {
     "duration": 0.074189,
     "end_time": "2022-08-13T13:44:05.424115",
     "exception": false,
     "start_time": "2022-08-13T13:44:05.349926",
     "status": "completed"
    },
    "tags": []
   },
   "source": [
    "Simple UNet to get barebones started"
   ]
  },
  {
   "cell_type": "code",
   "execution_count": null,
   "id": "f5c35f3d",
   "metadata": {
    "execution": {
     "iopub.execute_input": "2022-08-13T13:44:05.573562Z",
     "iopub.status.busy": "2022-08-13T13:44:05.573155Z",
     "iopub.status.idle": "2022-08-13T13:44:09.609306Z",
     "shell.execute_reply": "2022-08-13T13:44:09.608210Z"
    },
    "papermill": {
     "duration": 4.114193,
     "end_time": "2022-08-13T13:44:09.612368",
     "exception": false,
     "start_time": "2022-08-13T13:44:05.498175",
     "status": "completed"
    },
    "tags": []
   },
   "outputs": [],
   "source": [
    "import torch\n",
    "import torch.nn as nn\n",
    "import torchvision.transforms.functional as TF\n",
    "import torch.nn.functional as F\n",
    "\n",
    "\n",
    "class DoubleConv(nn.Module):\n",
    "    def __init__(self, in_ch, out_ch):\n",
    "        #self.in_ch = in_ch\n",
    "        super(DoubleConv, self).__init__()\n",
    "        self.conv = nn.Sequential(\n",
    "            nn.Conv2d(in_ch,out_ch,3,1,1, bias=False),\n",
    "            nn.BatchNorm2d(out_ch),\n",
    "            nn.ReLU(inplace=True),\n",
    "            nn.Conv2d(out_ch,out_ch,3,1,1, bias=False),\n",
    "            nn.BatchNorm2d(out_ch),\n",
    "            nn.ReLU(inplace=False),\n",
    "        )\n",
    "        \n",
    "    def forward(self,x):\n",
    "        #print(x.shape)#self.in_ch)\n",
    "        inter = self.conv(x) \n",
    "        #print(inter.shape)\n",
    "        return inter\n",
    "\n",
    "class UNET(nn.Module):\n",
    "    def __init__(self,in_ch=3,out_ch=1,features=[64,128,256,512]):\n",
    "        super(UNET,self).__init__()\n",
    "        self.descend = nn.ModuleList()\n",
    "        self.ascend = nn.ModuleList()\n",
    "        self.pool = nn.MaxPool2d(kernel_size=2,stride=2)\n",
    "        \n",
    "        for f in features:\n",
    "            self.descend.append(DoubleConv(in_ch,f))\n",
    "            in_ch = f\n",
    "            \n",
    "        for f in reversed(features):\n",
    "            self.ascend.append(nn.ConvTranspose2d(f*2,f,kernel_size=2,stride=2))\n",
    "            self.ascend.append(DoubleConv(f*2,f))\n",
    "            \n",
    "        self.bottleneck = DoubleConv(features[-1],features[-1]*2)\n",
    "        self.final_conv = nn.Conv2d(features[0],out_ch,kernel_size = 1)\n",
    "        \n",
    "    def forward(self,x):\n",
    "        skip_connections = []\n",
    "        #print(x.shape)\n",
    "        for d in self.descend:\n",
    "            #print(x.shape)\n",
    "            x = d(x)\n",
    "            #print(x.shape)\n",
    "            skip_connections.append(x)\n",
    "            #print(x.shape)\n",
    "            x = self.pool(x)\n",
    "            #print(x.shape)\n",
    "        #print(2)\n",
    "        x = self.bottleneck(x)\n",
    "        \n",
    "        skip_connections = skip_connections[::-1]\n",
    "        #print(3)\n",
    "        for idx in range(0,len(self.ascend),2):\n",
    "            x = self.ascend[idx](x)\n",
    "            skip_connection = skip_connections[idx//2]\n",
    "            #print(4+idx-1)\n",
    "            if x.shape != skip_connection.shape:\n",
    "                x = TF.resize(x,size=skip_connection.shape[2:])\n",
    "            \n",
    "            concat_skip = torch.cat((skip_connection, x),dim=1) ####!!!!!!!!!! google\n",
    "            x = self.ascend[idx+1](concat_skip)\n",
    "            \n",
    "        return self.final_conv(x)\n",
    "    \n",
    "def test():\n",
    "    x = torch.randn((3,1,161,161))\n",
    "    model = UNET(in_ch=1,out_ch=1)\n",
    "    preds = model(x)\n",
    "    print(preds.shape)\n",
    "    print(x.shape)\n",
    "    assert preds.shape == x.shape\n",
    "    \n",
    "test()"
   ]
  },
  {
   "cell_type": "code",
   "execution_count": null,
   "outputs": [],
   "source": [
    "#loss from the interwebs\n",
    "class DiceLoss(nn.Module):\n",
    "    def __init__(self, weight=None, size_average=True):\n",
    "        super(DiceLoss, self).__init__()\n",
    "\n",
    "    def forward(self, inputs, targets, smooth=1):\n",
    "\n",
    "        #comment out if your model contains a sigmoid or equivalent activation layer\n",
    "        #inputs = F.sigmoid(inputs)\n",
    "\n",
    "        #flatten label and prediction tensors\n",
    "        inputs = inputs.view(-1)\n",
    "        targets = targets.view(-1)\n",
    "\n",
    "        intersection = (inputs * targets).sum()\n",
    "        dice = (2.*intersection + smooth)/(inputs.sum() + targets.sum() + smooth)\n",
    "\n",
    "        return 1 - dice"
   ],
   "metadata": {
    "collapsed": false,
    "pycharm": {
     "name": "#%%\n"
    }
   }
  },
  {
   "cell_type": "markdown",
   "id": "2607e789",
   "metadata": {
    "papermill": {
     "duration": 0.077377,
     "end_time": "2022-08-13T13:44:09.766175",
     "exception": false,
     "start_time": "2022-08-13T13:44:09.688798",
     "status": "completed"
    },
    "tags": []
   },
   "source": [
    "Data\n",
    "\n",
    "TODO:\n",
    "1. account for crops of images\n",
    "2. account for transforms of images(should be done on the fly vs preprocess (can slow down training) "
   ]
  },
  {
   "cell_type": "code",
   "execution_count": null,
   "id": "f0f7127f",
   "metadata": {
    "execution": {
     "iopub.execute_input": "2022-08-13T13:44:09.921952Z",
     "iopub.status.busy": "2022-08-13T13:44:09.921266Z",
     "iopub.status.idle": "2022-08-13T13:44:09.958845Z",
     "shell.execute_reply": "2022-08-13T13:44:09.957275Z"
    },
    "jupyter": {
     "source_hidden": true
    },
    "papermill": {
     "duration": 0.118944,
     "end_time": "2022-08-13T13:44:09.961844",
     "exception": false,
     "start_time": "2022-08-13T13:44:09.842900",
     "status": "completed"
    },
    "tags": []
   },
   "outputs": [],
   "source": [
    "from torch.utils.data import Dataset\n",
    "\n",
    "class HistoDataset(Dataset):\n",
    "    #crops will be rectangular \n",
    "    def __init__(self,im_dir,mask_dir,labels,transform=None,crop_h = -1,trans_dir = './otsu'):\n",
    "        self.im_dir = im_dir\n",
    "        self.mask_dir = mask_dir\n",
    "        self.transform = transform\n",
    "        self.labels = pd.read_csv(labels)\n",
    "        self.no_mirror = 4\n",
    "        self.no_rot = 4\n",
    "        self.crop_h = crop_h\n",
    "        self.crop_w = crop_h\n",
    "        self.rand = random.Random()\n",
    "        rand.seed(2022)\n",
    "        self.path_otsu = trans_dir\n",
    "        initialise = False\n",
    "        \n",
    "        \n",
    "        #need to add the pre transformed images this should be probs done befor training to cut down on costs\n",
    "        \n",
    "        if crop_h == -1:\n",
    "            #we are using whole images\n",
    "            series = [1]*len(self.labels)\n",
    "            self.labels.insert(len(self.labels.columns),'len',series)\n",
    "        else:\n",
    "            #\n",
    "            #example of image path: ./otsu250im and mask: ./otsu250mask and df is ./otsu250df.pickle\n",
    "            #\n",
    "            p_im = Path(self.path_otsu+str(crop_h)+\"im\")\n",
    "            p_im.mkdir(parents=True, exist_ok=True)\n",
    "            m_im = Path(self.path_otsu+str(crop_h)+\"mask\")\n",
    "            m_im.mkdir(parents=True, exist_ok=True)\n",
    "            with os.scandir(p_im) as it:\n",
    "                initialise =  not any(it)\n",
    "            #we will be using crops\n",
    "            series = []\n",
    "            padding_h = []\n",
    "            padding_w = []\n",
    "            slice_w = []\n",
    "            slice_h = []\n",
    "            crop_size = []\n",
    "            #indexes = []\n",
    "            #calc masks for tissue images and get the crop to calc amount of tiles(non overlaping with 0 padding)\n",
    "            #pr = False\n",
    "            if initialise:\n",
    "                for ix, im in self.labels.iterrows():\n",
    "                    #################!!!!!!!!!!!!!!!!!!!!!!!!!###################\n",
    "                    #       need to also shift the mask for padding amount      #\n",
    "                    #    either shift the mask points or just save bin masks    #\n",
    "                    #           mask will be saved as bin numpy array           #\n",
    "                    #          we also save the dataframe of the thing          #\n",
    "                    #############################################################\n",
    "\n",
    "                    #loading mask and image\n",
    "                    im_path = os.path.join(self.im_dir, str(im.id) + \".tiff\")\n",
    "                    mask_path = os.path.join(self.mask_dir, str(im.id) + \".json\") #to rabmo spremenit!!!! je JSON in ni actual slika\n",
    "                    image = Image.open(im_path).convert(\"RGB\")\n",
    "                    masks = json.load(open(mask_path))\n",
    "                    x,y = image.size\n",
    "                    mask = np.array(maskPIL((y,x),masks,to_array =False).convert(\"L\"),dtype=np.float32)\n",
    "                    mask[mask==255.0] = 1\n",
    "\n",
    "                    #\n",
    "                    #getting the otsu_mask and padding for crop fit\n",
    "                    m = otsu_mask_dilated(image,np.ones((10, 10), np.uint8),np.ones((300, 300), np.uint8))\n",
    "                    m_c = get_crop_of_mask(m)\n",
    "                    y_amount = m_c.shape[0] // self.crop_h #how many crops we can fit in without overlap, we want to get crops that include the tissue\n",
    "                    p_h = self.crop_h - m_c.shape[0] % self.crop_h\n",
    "                    x_amount = m_c.shape[1] // self.crop_w\n",
    "                    p_w = self.crop_w - m_c.shape[1] % self.crop_w\n",
    "                    im_len = self.no_mirror*self.no_rot*(y_amount + 1 if p_h>0 else 0 )*(x_amount + 1 if p_w>0 else 0 )\n",
    "                    s_w = self.rand.randint(int(p_w//4),int(3*p_w//4))\n",
    "                    s_h = self.rand.randint(int(p_h//4),int(3*p_h//4))\n",
    "                    series.append(im_len)\n",
    "                    padding_w.append(p_w)\n",
    "                    slice_w.append(s_w)\n",
    "                    padding_h.append(p_h)\n",
    "                    slice_h.append(s_h)\n",
    "                    #crop_size.append(m_c.shape)\n",
    "\n",
    "                    #\n",
    "                    #creating the crops\n",
    "                    mask = get_crop_using_mask(m,mask,w_slice = s_w,h_slice = s_h,p_h = p_h,p_w = p_w)\n",
    "                    image = get_crop_using_mask(m,np.array(image),w_slice = s_w,h_slice = s_h,p_h = p_h,p_w = p_w)\n",
    "                    np.save(os.path.join(p_im,str(im.id)),image)\n",
    "                    np.save(os.path.join(m_im,str(im.id)),mask)\n",
    "\n",
    "                self.labels.insert(len(self.labels.columns),'len',series)\n",
    "                self.labels.insert(len(self.labels.columns),'padding_w',padding_w)\n",
    "                self.labels.insert(len(self.labels.columns),'slice_w',slice_w)\n",
    "                self.labels.insert(len(self.labels.columns),'padding_h',padding_h)\n",
    "                self.labels.insert(len(self.labels.columns),'slice_h',slice_h)\n",
    "                self.labels.to_pickle(path = \"otsu\"+str(crop_h) + \"df.pkl\")\n",
    "                self.im_dir = p_im\n",
    "                self.mask_dir = m_im\n",
    "\n",
    "                #self.labels.insert(len(self.labels.columns),'crop_size',crop_size)\n",
    "            else:\n",
    "                #just read from the respective maps and the df\n",
    "                self.labels = pd.read_pickle(\"otsu\"+str(crop_h) + \"df.pkl\")\n",
    "                self.im_dir = p_im\n",
    "                self.mask_dir = m_im\n",
    "\n",
    "\n",
    "            \n",
    "        \n",
    "    def __len__(self):\n",
    "        #print(self.labels)\n",
    "        return self.labels.loc[:,'len'].sum()\n",
    "\n",
    "    def __getitem__(self,index):\n",
    "        l,index = self.convert_index(index)\n",
    "        image = np.load(os.path.join(self.im_dir, str(l.id) + \".npy\"))\n",
    "        mask = np.load(os.path.join(self.mask_dir, str(l.id) + \".npy\"))\n",
    "\n",
    "        if self.transform is not None:\n",
    "            rot,mirror,crop = self.convert_index_to_transform(index,l.len)\n",
    "            #print(rot,mirror,crop)\n",
    "            mask = np.rot90(mask,k=rot)\n",
    "            image = np.rot90(image,k=rot)\n",
    "            if mirror == 1:\n",
    "                mask = np.flip(mask,axis = 0)\n",
    "                image = np.flip(image,axis = 0)\n",
    "            elif mirror == 2:\n",
    "                mask = np.flip(mask,axis = 1)\n",
    "                image = np.flip(image,axis = 1)\n",
    "            else:\n",
    "                mask = np.flip(mask)\n",
    "                image = np.flip(image)\n",
    "            y,x = self.get_crop_coord(crop,image,0,0)#l.padding_w,l.padding_h)\n",
    "            #print(y,x)\n",
    "            im = np.copy(image[y:y+self.crop_h,x:x+self.crop_h])\n",
    "            mask = np.copy(mask[y:y+self.crop_h,x:x+self.crop_h])\n",
    "            mask[mask == 255] = 1.0\n",
    "            im = self.transform(im/255.0)\n",
    "            mask = self.transform(mask)\n",
    "\n",
    "\n",
    "        return im,mask#,l\n",
    "\n",
    "    def __getitemOLD__(self,index):\n",
    "        #print(self.labels.iloc[index].id)\n",
    "        #need to convert index to image + crop of image\n",
    "        l,index = self.convert_index(index)\n",
    "        im_path = os.path.join(self.im_dir, str(l.id) + \".tiff\")\n",
    "        mask_path = os.path.join(self.mask_dir, str(l.id) + \".json\") #to rabmo spremenit!!!! je JSON in ni actual slika\n",
    "        image = Image.open(im_path).convert(\"RGB\")\n",
    "        im = image\n",
    "        x,y = image.size\n",
    "        #get random crop of image based on some params TODO\n",
    "        \n",
    "        \n",
    "        masks = json.load(open(mask_path))\n",
    "        #print(image.shape)\n",
    "        mask = np.array(maskPIL((y,x),masks,to_array =False).convert(\"L\"),dtype=np.float32)\n",
    "        mask[mask==255.0] = 1\n",
    "        \n",
    "        \n",
    "        if self.transform is not None:\n",
    "\n",
    "            m = otsu_mask_dilated(image,np.ones((10, 10), np.uint8),np.ones((300, 300), np.uint8))\n",
    "            #bounds = cv.boundingRec(m)\n",
    "            #slice_w = self.randint(int(l.padding_w//4),int(3*l.padding_w//4))\n",
    "            #slice_h = self.randint(int(l.padding_w//4),int(3*l.padding_w//4))\n",
    "            mask = get_crop_using_mask(m,mask,w_slice = l.slice_w,h_slice = l.slice_h,p_h = l.padding_h,p_w = l.padding_w)\n",
    "            #mask = mask[y1:y2, x1:x2]\n",
    "            image = get_crop_using_mask(m,np.array(image),w_slice = l.slice_w,h_slice = l.slice_h,p_h = l.padding_h,p_w = l.padding_w)\n",
    "            #image = np.array(image)\n",
    "            #image = image[y1:y2, x1:x2]\n",
    "            rot,mirror,crop = self.convert_index_to_transform(index,l.len)\n",
    "            #print(rot,mirror,crop)\n",
    "            mask = np.rot90(mask,k=rot)\n",
    "            image = np.rot90(image,k=rot)\n",
    "            if mirror == 1:\n",
    "                mask = np.flip(mask,axis = 0)\n",
    "                image = np.flip(image,axis = 0)\n",
    "            elif mirror == 2:\n",
    "                mask = np.flip(mask,axis = 1)\n",
    "                image = np.flip(image,axis = 1)\n",
    "            else:\n",
    "                mask = np.flip(mask)\n",
    "                image = np.flip(image)\n",
    "            y,x = self.get_crop_coord(crop,image,0,0)#l.padding_w,l.padding_h)\n",
    "            #print(y,x)\n",
    "            im = torch.from_numpy(np.copy(image[y:y+self.crop_h,x:x+self.crop_h]))\n",
    "            mask = torch.from_numpy(np.copy(mask[y:y+self.crop_h,x:x+self.crop_h]))\n",
    "            mask[mask == 255] = 1.0\n",
    "            im = self.transform(im/255.0)\n",
    "            mask = self.transform(mask)\n",
    "\n",
    "        \n",
    "                \n",
    "        return im,mask#,l\n",
    "\n",
    "    #image comes in already padded and cropped\n",
    "    def get_crop_coord(self,crop,im,pad_w,pad_h):\n",
    "        #print(im.shape)\n",
    "        \"\"\"w1=w0 = pad_w//2\n",
    "        if pad_w %2 ==1 :\n",
    "            w1 = w1+1\n",
    "        h1=h0 = pad_h//2\n",
    "        if pad_h %2 ==1 :\n",
    "            w1 = w1+1\"\"\"\n",
    "        y_l,x_l = im.shape[:2]\n",
    "        #y_l = pad_h + y_l\n",
    "        #x_l = pad_w + x_l\n",
    "        #print(pad_w,pad_h)\n",
    "        y = (crop // (x_l//self.crop_h))*self.crop_h\n",
    "        x = (crop % (x_l//self.crop_h))*self.crop_h\n",
    "        #print(y,x)\n",
    "        return int(y),int(x)\n",
    "        \n",
    "    \n",
    "    def convert_index(self,index):\n",
    "        suma = 0\n",
    "        for ix, l in self.labels.iterrows():\n",
    "            #print(l)\n",
    "            if index <suma+l.len:\n",
    "                return (l,index-suma)\n",
    "            else:\n",
    "                suma = suma + l.len\n",
    "            \n",
    "    def convert_index_to_transform(self,index,length):\n",
    "        crops = length/(4*4)\n",
    "        rot = index //(4*crops)\n",
    "        mirror = (index %(4*crops))//crops\n",
    "        crop = (index %(4*crops))%crops\n",
    "        \n",
    "        return rot,mirror,crop\n",
    "        "
   ]
  },
  {
   "cell_type": "code",
   "execution_count": null,
   "id": "17de57cb",
   "metadata": {
    "execution": {
     "iopub.execute_input": "2022-08-13T13:44:10.114103Z",
     "iopub.status.busy": "2022-08-13T13:44:10.113614Z",
     "iopub.status.idle": "2022-08-13T13:46:57.707915Z",
     "shell.execute_reply": "2022-08-13T13:46:57.706072Z"
    },
    "papermill": {
     "duration": 167.677643,
     "end_time": "2022-08-13T13:46:57.713660",
     "exception": false,
     "start_time": "2022-08-13T13:44:10.036017",
     "status": "completed"
    },
    "tags": []
   },
   "outputs": [],
   "source": [
    "labels = \"./hubmap-organ-segmentation/train.csv\"\n",
    "hist = HistoDataset(\"./hubmap-organ-segmentation/train_images\",\"./hubmap-organ-segmentation/train_annotations\",labels,transform=True,crop_h = 250)"
   ]
  },
  {
   "cell_type": "code",
   "execution_count": null,
   "id": "a58141ce",
   "metadata": {
    "execution": {
     "iopub.execute_input": "2022-08-13T13:46:57.869921Z",
     "iopub.status.busy": "2022-08-13T13:46:57.869163Z",
     "iopub.status.idle": "2022-08-13T13:46:57.878710Z",
     "shell.execute_reply": "2022-08-13T13:46:57.877872Z"
    },
    "jupyter": {
     "source_hidden": true
    },
    "papermill": {
     "duration": 0.088644,
     "end_time": "2022-08-13T13:46:57.881322",
     "exception": false,
     "start_time": "2022-08-13T13:46:57.792678",
     "status": "completed"
    },
    "tags": []
   },
   "outputs": [],
   "source": [
    "print(hist[i][0].shape)\n",
    "\n",
    "\n",
    "\"\"\"for i in range(1,300):\n",
    "    print(hist[i][0].shape)\n",
    "    plt.imshow(hist[i][0])\n",
    "    plt.show()\n",
    "    #input()\n",
    "\"\"\""
   ]
  },
  {
   "cell_type": "code",
   "execution_count": null,
   "id": "995ea8dd",
   "metadata": {
    "execution": {
     "iopub.execute_input": "2022-08-13T13:46:58.034497Z",
     "iopub.status.busy": "2022-08-13T13:46:58.033368Z",
     "iopub.status.idle": "2022-08-13T13:46:58.074092Z",
     "shell.execute_reply": "2022-08-13T13:46:58.072488Z"
    },
    "jupyter": {
     "source_hidden": true
    },
    "papermill": {
     "duration": 0.121855,
     "end_time": "2022-08-13T13:46:58.076928",
     "exception": false,
     "start_time": "2022-08-13T13:46:57.955073",
     "status": "completed"
    },
    "tags": []
   },
   "outputs": [],
   "source": [
    "def convert_index_to_transform(index,length):\n",
    "        crops = length/(4*4)\n",
    "        rot = index //(4*crops)\n",
    "        mirror = (index %(4*crops))//crops\n",
    "        crop = (index %(4*crops))%crops\n",
    "        \n",
    "        return rot,mirror,crop\n",
    "    \n",
    "def convert_index(df,index):\n",
    "        suma = 0\n",
    "        for ix, l in df.iterrows():\n",
    "            #print(l)\n",
    "            if index <suma+l.len:\n",
    "                return (l.id,index-suma)\n",
    "            else:\n",
    "                suma = suma + l.len\n",
    "    \n",
    "df = pd.DataFrame()\n",
    "df.insert(0,'len',[15,12,33,14,3,4])\n",
    "df.insert(0,'id',[0,1,2,3,4,5])\n",
    "for i in range(df.loc[:,'len'].sum()):\n",
    "    print(convert_index(df,i))"
   ]
  },
  {
   "cell_type": "markdown",
   "id": "2c98b7d1",
   "metadata": {
    "papermill": {
     "duration": 0.076472,
     "end_time": "2022-08-13T13:46:58.228389",
     "exception": false,
     "start_time": "2022-08-13T13:46:58.151917",
     "status": "completed"
    },
    "tags": []
   },
   "source": [
    "utils"
   ]
  },
  {
   "cell_type": "code",
   "execution_count": null,
   "id": "4bacc8da",
   "metadata": {
    "execution": {
     "iopub.execute_input": "2022-08-13T13:46:58.380840Z",
     "iopub.status.busy": "2022-08-13T13:46:58.379672Z",
     "iopub.status.idle": "2022-08-13T13:46:58.398533Z",
     "shell.execute_reply": "2022-08-13T13:46:58.397223Z"
    },
    "papermill": {
     "duration": 0.097986,
     "end_time": "2022-08-13T13:46:58.401451",
     "exception": false,
     "start_time": "2022-08-13T13:46:58.303465",
     "status": "completed"
    },
    "tags": []
   },
   "outputs": [],
   "source": [
    "from torch.utils.data import DataLoader,Subset\n",
    "import torchvision\n",
    "from torch.utils.data.sampler import SubsetRandomSampler\n",
    "\n",
    "\n",
    "def save_checkpoint(state, filename=\"my_checkpoint.pth.tar\"):\n",
    "    print(\"SAVING MODEL\")\n",
    "    torch.save(state, filename)\n",
    "    \n",
    "def load_checkpoint(checkpoint, model):\n",
    "    print(\"LOADING MODEL\")\n",
    "    model.load_state_dict(checkpoint[\"state_dict\"])\n",
    "\n",
    "def get_loaders1(\n",
    "    ds,\n",
    "    transform,\n",
    "    val_transform,\n",
    "    batch_size = 16,\n",
    "    val_split = 0.2,\n",
    "    shuffle_ds = True,\n",
    "    random_seed= 2022,\n",
    "    num_workers = 4,\n",
    "    pin_memory = True\n",
    "):\n",
    "    \n",
    "    indices = list(range(len(ds)))\n",
    "    split = int(np.floor(val_split*len(ds)))\n",
    "    if shuffle_ds:\n",
    "        np.random.seed(2022)\n",
    "        np.random.shuffle(indices)\n",
    "    train_ids = indices[split:]\n",
    "    val_ids = indices[:split]\n",
    "    \n",
    "    #train_sampler = SubsetRandomSampler(train_ids)\n",
    "    #val_sampler = SubsetRandomSampler(val_ids)\n",
    "    train_split = Subset(ds, train_ids)\n",
    "    test_split = Subset(ds, val_ids)\n",
    "    \n",
    "    train_loader = DataLoader(\n",
    "        ds,\n",
    "        batch_size = batch_size,\n",
    "        #sampler = train_sampler,\n",
    "        num_workers = num_workers,\n",
    "        pin_memory = pin_memory,\n",
    "        #shuffle = True,\n",
    "    )\n",
    "    \n",
    "    val_loader = DataLoader(\n",
    "        ds,\n",
    "        batch_size = batch_size,\n",
    "        #sampler = val_sampler,\n",
    "        num_workers = num_workers,\n",
    "        pin_memory = pin_memory,\n",
    "        #shuffle = True,\n",
    "    )\n",
    "    \n",
    "    return (ds,train_loader,val_loader)    \n",
    "\n",
    "def get_loaders(\n",
    "    train_dir,\n",
    "    train_maskdir,\n",
    "    transform,\n",
    "    val_transform,\n",
    "    batch_size = 16,\n",
    "    val_split = 0.2,\n",
    "    shuffle_ds = True,\n",
    "    random_seed= 2022,\n",
    "    num_workers = 4,\n",
    "    pin_memory = True\n",
    "):\n",
    "    ds = HistoDataset(\n",
    "        train_dir,\n",
    "        \"./hubmap-organ-segmentation/train_annotations\",\n",
    "        labels,\n",
    "        transform=transform,\n",
    "        crop_h = 250\n",
    "    )\n",
    "    indices = list(range(len(ds)))\n",
    "    split = int(np.floor(val_split*len(ds)))\n",
    "    if shuffle_ds:\n",
    "        np.random.seed(2022)\n",
    "        np.random.shuffle(indices)\n",
    "    train_ids = indices[split:]\n",
    "    val_ids = indices[:split]\n",
    "    \n",
    "    #train_sampler = SubsetRandomSampler(train_ids)\n",
    "    #val_sampler = SubsetRandomSampler(val_ids)\n",
    "    train_split = Subset(ds, train_ids)\n",
    "    test_split = Subset(ds, val_ids)\n",
    "    \n",
    "    train_loader = DataLoader(\n",
    "        ds,\n",
    "        batch_size = batch_size,\n",
    "        #sampler = train_sampler,\n",
    "        num_workers = num_workers,\n",
    "        pin_memory = pin_memory,\n",
    "        shuffle = True,\n",
    "    )\n",
    "    \n",
    "    val_loader = DataLoader(\n",
    "        ds,\n",
    "        batch_size = batch_size,\n",
    "        #sampler = val_sampler,\n",
    "        num_workers = num_workers,\n",
    "        pin_memory = pin_memory,\n",
    "        shuffle = True,\n",
    "    )\n",
    "    \n",
    "    return (ds,train_loader,val_loader)"
   ]
  },
  {
   "cell_type": "code",
   "execution_count": null,
   "id": "8969c836",
   "metadata": {
    "execution": {
     "iopub.execute_input": "2022-08-13T13:46:58.552591Z",
     "iopub.status.busy": "2022-08-13T13:46:58.551909Z",
     "iopub.status.idle": "2022-08-13T13:47:01.495267Z",
     "shell.execute_reply": "2022-08-13T13:47:01.494086Z"
    },
    "papermill": {
     "duration": 3.023515,
     "end_time": "2022-08-13T13:47:01.498553",
     "exception": false,
     "start_time": "2022-08-13T13:46:58.475038",
     "status": "completed"
    },
    "tags": []
   },
   "outputs": [],
   "source": [
    "\n",
    "import torch.optim as optim\n",
    "import tqdm\n",
    "\n",
    "\n",
    "lr = 1e-4\n",
    "DEVICE = 'cuda' if torch.cuda.is_available() else 'cpu'\n",
    "BATCH_SIZE = 32\n",
    "N_EPOCHS = 3\n",
    "N_WORKERS = 2\n",
    "IM_H = 160\n",
    "IM_W = 240\n",
    "PIN_MEM = True\n",
    "LOAD_MODEL = True\n",
    "TRAIN_IM_DIR = \"./hubmap-organ-segmentation/train_images\"\n",
    "TRAIN_MASK_DIR = \"./hubmap-organ-segmentation/train_annotations\"\n",
    "\n",
    "\n",
    "def train(loader, model, optimizer, loss_fn, scaler):\n",
    "    loop = tqdm.tqdm(loader)\n",
    "    \n",
    "    for batch_i, (data,targets) in enumerate(loop):\n",
    "        #print(data,targets)\n",
    "        data= data.float()\n",
    "        data = data.to(device = DEVICE)\n",
    "        targets = targets.float().unsqueeze(1).to(device = DEVICE)\n",
    "        \n",
    "        with torch.cuda.amp.autocast():\n",
    "            preds = model(data)\n",
    "            targets = torch.squeeze(targets,1)\n",
    "            loss = loss_fn(preds,targets)\n",
    "            \n",
    "        optimizer.zero_grad()\n",
    "        scaler.scale(loss).backward()\n",
    "        scaler.step(optimizer)\n",
    "        scaler.update()\n",
    "        \n",
    "        loop.set_postfix(loss=loss.item())\n",
    "        \n",
    "        \n",
    "    \n",
    "    \n",
    "def main():\n",
    "    train_transforms = torchvision.transforms.Compose([torchvision.transforms.ToTensor()])\n",
    "    val_transforms = torchvision.transforms.Compose([torchvision.transforms.ToTensor()])\n",
    "    \n",
    "    model = UNET(in_ch=3,out_ch=1).to(DEVICE)\n",
    "    model = model.float()\n",
    "    loss_fn = nn.BCEWithLogitsLoss()\n",
    "    optimizer = optim.Adam(model.parameters(),lr=lr)\n",
    "\n",
    "    \n",
    "    \"\"\"train_dir,\n",
    "    train_maskdir,\n",
    "    transform,\n",
    "    val_transform,\n",
    "    batch_size = 16,\n",
    "    val_split = 0.2,\n",
    "    shuffle_ds = True,\n",
    "    random_seed= 2022,\n",
    "    num_workers = 4,\n",
    "    pin_memory = True\"\"\"\n",
    "    \n",
    "    ds,train_loader,val_loader = get_loaders(\n",
    "        TRAIN_IM_DIR,\n",
    "        TRAIN_MASK_DIR,\n",
    "        train_transforms,\n",
    "        val_transforms,\n",
    "        batch_size=BATCH_SIZE,\n",
    "        num_workers = N_WORKERS,\n",
    "        pin_memory = PIN_MEM\n",
    "    )\n",
    "    \n",
    "    scaler = torch.cuda.amp.GradScaler()\n",
    "    for epoch in range(N_EPOCHS):\n",
    "        print(epoch)\n",
    "        train(train_loader, model, optimizer, loss_fn,scaler)\n",
    "        save_checkpoint(model, filename=f\"UNET_BCELogits_{epoch}.pth.tar\")\n"
   ]
  },
  {
   "cell_type": "code",
   "execution_count": null,
   "outputs": [],
   "source": [
    "main()"
   ],
   "metadata": {
    "collapsed": false,
    "pycharm": {
     "name": "#%%\n"
    }
   }
  },
  {
   "cell_type": "markdown",
   "source": [
    "Because i didn't think ahead i will manually stop at one epoch save the model and train for 2 more epochs and save for each one to compare"
   ],
   "metadata": {
    "collapsed": false
   }
  },
  {
   "cell_type": "code",
   "execution_count": null,
   "outputs": [],
   "source": [
    "#continue training one more epoch\n",
    "#saving model:\n"
   ],
   "metadata": {
    "collapsed": false,
    "pycharm": {
     "name": "#%%\n"
    }
   }
  },
  {
   "cell_type": "code",
   "execution_count": null,
   "id": "0a27ec1d",
   "metadata": {
    "execution": {
     "iopub.execute_input": "2022-08-13T13:47:01.651316Z",
     "iopub.status.busy": "2022-08-13T13:47:01.649360Z",
     "iopub.status.idle": "2022-08-13T13:48:33.650534Z",
     "shell.execute_reply": "2022-08-13T13:48:33.649018Z"
    },
    "papermill": {
     "duration": 92.158891,
     "end_time": "2022-08-13T13:48:33.731503",
     "exception": false,
     "start_time": "2022-08-13T13:47:01.572612",
     "status": "completed"
    },
    "tags": []
   },
   "outputs": [],
   "source": [
    "train_transforms = torchvision.transforms.Compose([torchvision.transforms.ToTensor()])\n",
    "val_transforms = torchvision.transforms.Compose([torchvision.transforms.ToTensor()])\n",
    "\n",
    "model = UNET(in_ch=3,out_ch=1).to(DEVICE)\n",
    "model = model.float()\n",
    "loss_fn = nn.BCELoss()\n",
    "optimizer = optim.Adam(model.parameters(),lr=lr)\n",
    "\n",
    "\n",
    "\"\"\"train_dir,\n",
    "train_maskdir,\n",
    "transform,\n",
    "val_transform,\n",
    "batch_size = 16,\n",
    "val_split = 0.2,\n",
    "shuffle_ds = True,\n",
    "random_seed= 2022,\n",
    "num_workers = 4,\n",
    "pin_memory = True\"\"\"\n",
    "\n",
    "ds,train_loader,val_loader = get_loaders(\n",
    "    TRAIN_IM_DIR,\n",
    "    TRAIN_MASK_DIR,\n",
    "    train_transforms,\n",
    "    val_transforms,\n",
    "    batch_size=16,\n",
    "    num_workers = N_WORKERS,\n",
    "    pin_memory = PIN_MEM\n",
    ")\n",
    "\n",
    "scaler = torch.cuda.amp.GradScaler()"
   ]
  },
  {
   "cell_type": "code",
   "execution_count": null,
   "outputs": [],
   "source": [
    "loop = tqdm.tqdm(train_loader)\n",
    "size = (0,0,0,0)\n",
    "print(size)\n",
    "for batch_i,(data,targets) in enumerate(loop):\n",
    "    if size != data[0].shape:\n",
    "        size = data[0].shape\n",
    "        print(size)\n",
    "        plt.imshow(data[0])\n",
    "        plt.show()\n",
    "\n"
   ],
   "metadata": {
    "collapsed": false,
    "pycharm": {
     "name": "#%%\n"
    }
   }
  },
  {
   "cell_type": "code",
   "execution_count": null,
   "outputs": [],
   "source": [
    "#gre čez tazadno vrstico kljub temu da je prazna\n",
    "print(ds[101][0].shape)\n",
    "#print(ds[101][2])\n",
    "plt.imshow(ds[101][0])\n",
    "plt.show()"
   ],
   "metadata": {
    "collapsed": false,
    "pycharm": {
     "name": "#%%\n"
    }
   }
  },
  {
   "cell_type": "code",
   "execution_count": null,
   "id": "48f70df3",
   "metadata": {
    "execution": {
     "iopub.execute_input": "2022-08-13T13:48:33.886609Z",
     "iopub.status.busy": "2022-08-13T13:48:33.885847Z",
     "iopub.status.idle": "2022-08-13T13:48:33.892529Z",
     "shell.execute_reply": "2022-08-13T13:48:33.891592Z"
    },
    "papermill": {
     "duration": 0.089359,
     "end_time": "2022-08-13T13:48:33.895152",
     "exception": false,
     "start_time": "2022-08-13T13:48:33.805793",
     "status": "completed"
    },
    "tags": []
   },
   "outputs": [],
   "source": [
    "for epoch in range(N_EPOCHS):\n",
    "        print(epoch)\n",
    "        train(train_loader, model, optimizer, loss_fn,scaler)"
   ]
  },
  {
   "cell_type": "markdown",
   "source": [
    "TODO:\n",
    "-create the test for client side\n",
    "-create the test for server side(conversion to poly and to rle)\n",
    "-make a more balnced dataset (50/50 mask without mask)\n",
    "-figure out if there is a better loss function than dice score\n"
   ],
   "metadata": {
    "collapsed": false
   }
  },
  {
   "cell_type": "markdown",
   "id": "41de248a",
   "metadata": {
    "papermill": {
     "duration": 0.076468,
     "end_time": "2022-08-13T13:48:34.046579",
     "exception": false,
     "start_time": "2022-08-13T13:48:33.970111",
     "status": "completed"
    },
    "tags": []
   },
   "source": [
    "option:\n",
    "just rpedict the edge no need to predict the inside(use a thicker line for edge and just fill in the poly you get)"
   ]
  }
 ],
 "metadata": {
  "kernelspec": {
   "display_name": "Python 3",
   "language": "python",
   "name": "python3"
  },
  "language_info": {
   "codemirror_mode": {
    "name": "ipython",
    "version": 3
   },
   "file_extension": ".py",
   "mimetype": "text/x-python",
   "name": "python",
   "nbconvert_exporter": "python",
   "pygments_lexer": "ipython3",
   "version": "3.7.12"
  },
  "papermill": {
   "default_parameters": {},
   "duration": 314.304786,
   "end_time": "2022-08-13T13:48:35.453355",
   "environment_variables": {},
   "exception": null,
   "input_path": "__notebook__.ipynb",
   "output_path": "__notebook__.ipynb",
   "parameters": {},
   "start_time": "2022-08-13T13:43:21.148569",
   "version": "2.3.4"
  }
 },
 "nbformat": 4,
 "nbformat_minor": 5
}